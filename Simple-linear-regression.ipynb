{
 "cells": [
  {
   "cell_type": "code",
   "execution_count": 1,
   "id": "0fea140b",
   "metadata": {},
   "outputs": [],
   "source": [
    "import numpy as np\n",
    "import pandas as pd\n",
    "import matplotlib.pyplot as plt"
   ]
  },
  {
   "cell_type": "code",
   "execution_count": 2,
   "id": "4fdb5c69",
   "metadata": {},
   "outputs": [],
   "source": [
    "df = pd.read_csv(\"London.csv\")"
   ]
  },
  {
   "cell_type": "code",
   "execution_count": 163,
   "id": "467a5931",
   "metadata": {},
   "outputs": [
    {
     "data": {
      "text/html": [
       "<div>\n",
       "<style scoped>\n",
       "    .dataframe tbody tr th:only-of-type {\n",
       "        vertical-align: middle;\n",
       "    }\n",
       "\n",
       "    .dataframe tbody tr th {\n",
       "        vertical-align: top;\n",
       "    }\n",
       "\n",
       "    .dataframe thead th {\n",
       "        text-align: right;\n",
       "    }\n",
       "</style>\n",
       "<table border=\"1\" class=\"dataframe\">\n",
       "  <thead>\n",
       "    <tr style=\"text-align: right;\">\n",
       "      <th></th>\n",
       "      <th>Unnamed: 0</th>\n",
       "      <th>Property Name</th>\n",
       "      <th>Price</th>\n",
       "      <th>House Type</th>\n",
       "      <th>Area in sq ft</th>\n",
       "      <th>No. of Bedrooms</th>\n",
       "      <th>No. of Bathrooms</th>\n",
       "      <th>No. of Receptions</th>\n",
       "      <th>Location</th>\n",
       "      <th>City/County</th>\n",
       "      <th>Postal Code</th>\n",
       "    </tr>\n",
       "  </thead>\n",
       "  <tbody>\n",
       "    <tr>\n",
       "      <th>0</th>\n",
       "      <td>0</td>\n",
       "      <td>Queens Road</td>\n",
       "      <td>1675000</td>\n",
       "      <td>House</td>\n",
       "      <td>2716</td>\n",
       "      <td>5</td>\n",
       "      <td>5</td>\n",
       "      <td>5</td>\n",
       "      <td>Wimbledon</td>\n",
       "      <td>London</td>\n",
       "      <td>SW19 8NY</td>\n",
       "    </tr>\n",
       "    <tr>\n",
       "      <th>1</th>\n",
       "      <td>1</td>\n",
       "      <td>Seward Street</td>\n",
       "      <td>650000</td>\n",
       "      <td>Flat / Apartment</td>\n",
       "      <td>814</td>\n",
       "      <td>2</td>\n",
       "      <td>2</td>\n",
       "      <td>2</td>\n",
       "      <td>Clerkenwell</td>\n",
       "      <td>London</td>\n",
       "      <td>EC1V 3PA</td>\n",
       "    </tr>\n",
       "    <tr>\n",
       "      <th>2</th>\n",
       "      <td>2</td>\n",
       "      <td>Hotham Road</td>\n",
       "      <td>735000</td>\n",
       "      <td>Flat / Apartment</td>\n",
       "      <td>761</td>\n",
       "      <td>2</td>\n",
       "      <td>2</td>\n",
       "      <td>2</td>\n",
       "      <td>Putney</td>\n",
       "      <td>London</td>\n",
       "      <td>SW15 1QL</td>\n",
       "    </tr>\n",
       "    <tr>\n",
       "      <th>3</th>\n",
       "      <td>3</td>\n",
       "      <td>Festing Road</td>\n",
       "      <td>1765000</td>\n",
       "      <td>House</td>\n",
       "      <td>1986</td>\n",
       "      <td>4</td>\n",
       "      <td>4</td>\n",
       "      <td>4</td>\n",
       "      <td>Putney</td>\n",
       "      <td>London</td>\n",
       "      <td>SW15 1LP</td>\n",
       "    </tr>\n",
       "    <tr>\n",
       "      <th>4</th>\n",
       "      <td>4</td>\n",
       "      <td>Spencer Walk</td>\n",
       "      <td>675000</td>\n",
       "      <td>Flat / Apartment</td>\n",
       "      <td>700</td>\n",
       "      <td>2</td>\n",
       "      <td>2</td>\n",
       "      <td>2</td>\n",
       "      <td>Putney</td>\n",
       "      <td>London</td>\n",
       "      <td>SW15 1PL</td>\n",
       "    </tr>\n",
       "    <tr>\n",
       "      <th>...</th>\n",
       "      <td>...</td>\n",
       "      <td>...</td>\n",
       "      <td>...</td>\n",
       "      <td>...</td>\n",
       "      <td>...</td>\n",
       "      <td>...</td>\n",
       "      <td>...</td>\n",
       "      <td>...</td>\n",
       "      <td>...</td>\n",
       "      <td>...</td>\n",
       "      <td>...</td>\n",
       "    </tr>\n",
       "    <tr>\n",
       "      <th>3475</th>\n",
       "      <td>3475</td>\n",
       "      <td>One Lillie Square</td>\n",
       "      <td>3350000</td>\n",
       "      <td>New development</td>\n",
       "      <td>1410</td>\n",
       "      <td>3</td>\n",
       "      <td>3</td>\n",
       "      <td>3</td>\n",
       "      <td>NaN</td>\n",
       "      <td>Lillie Square</td>\n",
       "      <td>SW6 1UE</td>\n",
       "    </tr>\n",
       "    <tr>\n",
       "      <th>3476</th>\n",
       "      <td>3476</td>\n",
       "      <td>St. James's Street</td>\n",
       "      <td>5275000</td>\n",
       "      <td>Flat / Apartment</td>\n",
       "      <td>1749</td>\n",
       "      <td>3</td>\n",
       "      <td>3</td>\n",
       "      <td>3</td>\n",
       "      <td>St James's</td>\n",
       "      <td>London</td>\n",
       "      <td>SW1A 1JT</td>\n",
       "    </tr>\n",
       "    <tr>\n",
       "      <th>3477</th>\n",
       "      <td>3477</td>\n",
       "      <td>Ingram Avenue</td>\n",
       "      <td>5995000</td>\n",
       "      <td>House</td>\n",
       "      <td>4435</td>\n",
       "      <td>6</td>\n",
       "      <td>6</td>\n",
       "      <td>6</td>\n",
       "      <td>Hampstead Garden Suburb</td>\n",
       "      <td>London</td>\n",
       "      <td>NW11 6TG</td>\n",
       "    </tr>\n",
       "    <tr>\n",
       "      <th>3478</th>\n",
       "      <td>3478</td>\n",
       "      <td>Cork Street</td>\n",
       "      <td>6300000</td>\n",
       "      <td>New development</td>\n",
       "      <td>1506</td>\n",
       "      <td>3</td>\n",
       "      <td>3</td>\n",
       "      <td>3</td>\n",
       "      <td>Mayfair</td>\n",
       "      <td>London</td>\n",
       "      <td>W1S 3AR</td>\n",
       "    </tr>\n",
       "    <tr>\n",
       "      <th>3479</th>\n",
       "      <td>3479</td>\n",
       "      <td>Courtenay Avenue</td>\n",
       "      <td>8650000</td>\n",
       "      <td>House</td>\n",
       "      <td>5395</td>\n",
       "      <td>6</td>\n",
       "      <td>6</td>\n",
       "      <td>6</td>\n",
       "      <td>Highgate</td>\n",
       "      <td>London</td>\n",
       "      <td>N6 4LP</td>\n",
       "    </tr>\n",
       "  </tbody>\n",
       "</table>\n",
       "<p>3480 rows × 11 columns</p>\n",
       "</div>"
      ],
      "text/plain": [
       "      Unnamed: 0       Property Name    Price        House Type  \\\n",
       "0              0         Queens Road  1675000             House   \n",
       "1              1       Seward Street   650000  Flat / Apartment   \n",
       "2              2         Hotham Road   735000  Flat / Apartment   \n",
       "3              3        Festing Road  1765000             House   \n",
       "4              4        Spencer Walk   675000  Flat / Apartment   \n",
       "...          ...                 ...      ...               ...   \n",
       "3475        3475   One Lillie Square  3350000   New development   \n",
       "3476        3476  St. James's Street  5275000  Flat / Apartment   \n",
       "3477        3477       Ingram Avenue  5995000             House   \n",
       "3478        3478         Cork Street  6300000   New development   \n",
       "3479        3479    Courtenay Avenue  8650000             House   \n",
       "\n",
       "      Area in sq ft  No. of Bedrooms  No. of Bathrooms  No. of Receptions  \\\n",
       "0              2716                5                 5                  5   \n",
       "1               814                2                 2                  2   \n",
       "2               761                2                 2                  2   \n",
       "3              1986                4                 4                  4   \n",
       "4               700                2                 2                  2   \n",
       "...             ...              ...               ...                ...   \n",
       "3475           1410                3                 3                  3   \n",
       "3476           1749                3                 3                  3   \n",
       "3477           4435                6                 6                  6   \n",
       "3478           1506                3                 3                  3   \n",
       "3479           5395                6                 6                  6   \n",
       "\n",
       "                     Location    City/County Postal Code  \n",
       "0                   Wimbledon         London    SW19 8NY  \n",
       "1                 Clerkenwell         London    EC1V 3PA  \n",
       "2                      Putney         London    SW15 1QL  \n",
       "3                      Putney         London    SW15 1LP  \n",
       "4                      Putney         London    SW15 1PL  \n",
       "...                       ...            ...         ...  \n",
       "3475                      NaN  Lillie Square     SW6 1UE  \n",
       "3476               St James's         London    SW1A 1JT  \n",
       "3477  Hampstead Garden Suburb         London    NW11 6TG  \n",
       "3478                  Mayfair         London     W1S 3AR  \n",
       "3479                 Highgate         London      N6 4LP  \n",
       "\n",
       "[3480 rows x 11 columns]"
      ]
     },
     "execution_count": 163,
     "metadata": {},
     "output_type": "execute_result"
    }
   ],
   "source": [
    "df"
   ]
  },
  {
   "cell_type": "code",
   "execution_count": 164,
   "id": "2c32c1d1",
   "metadata": {},
   "outputs": [
    {
     "data": {
      "text/plain": [
       "Text(0.5, 1.0, 'Original data set')"
      ]
     },
     "execution_count": 164,
     "metadata": {},
     "output_type": "execute_result"
    },
    {
     "data": {
      "image/png": "[encoded data removed]",
      "text/plain": [
       "<Figure size 432x288 with 1 Axes>"
      ]
     },
     "metadata": {
      "needs_background": "light"
     },
     "output_type": "display_data"
    }
   ],
   "source": [
    "plt.scatter(df['Area in sq ft'], df.Price)\n",
    "plt.xlabel('Area in sq ft')\n",
    "plt.ylabel('Price')\n",
    "plt.title('Original data set')"
   ]
  },
  {
   "cell_type": "code",
   "execution_count": 165,
   "id": "0d672396",
   "metadata": {},
   "outputs": [],
   "source": [
    "#creating new data set with relevant features and reducing the size of it for a training sample first\n",
    "df1 = df[['Price','Area in sq ft']]\n",
    "df1 = df1.sample(n=200, random_state=1)"
   ]
  },
  {
   "cell_type": "code",
   "execution_count": 166,
   "id": "3dc69dca",
   "metadata": {
    "scrolled": true
   },
   "outputs": [
    {
     "data": {
      "text/plain": [
       "Price            0\n",
       "Area in sq ft    0\n",
       "dtype: int64"
      ]
     },
     "execution_count": 166,
     "metadata": {},
     "output_type": "execute_result"
    }
   ],
   "source": [
    "#checking for any missing values\n",
    "df1.isnull().sum()"
   ]
  },
  {
   "cell_type": "code",
   "execution_count": 167,
   "id": "52ea4fca",
   "metadata": {},
   "outputs": [
    {
     "data": {
      "text/plain": [
       "Text(0.5, 1.0, 'Reduced data set')"
      ]
     },
     "execution_count": 167,
     "metadata": {},
     "output_type": "execute_result"
    },
    {
     "data": {
      "image/png": "[encoded data removed]",
      "text/plain": [
       "<Figure size 432x288 with 1 Axes>"
      ]
     },
     "metadata": {
      "needs_background": "light"
     },
     "output_type": "display_data"
    }
   ],
   "source": [
    "plt.ticklabel_format(useOffset=False, style='plain')\n",
    "plt.scatter(df1['Area in sq ft'], df1.Price)\n",
    "plt.xlabel('Area in sq ft')\n",
    "plt.ylabel('Price')\n",
    "plt.title('Reduced data set')"
   ]
  },
  {
   "cell_type": "code",
   "execution_count": 168,
   "id": "257384d9",
   "metadata": {},
   "outputs": [],
   "source": [
    "#manually removing some outliers in the data\n",
    "df1.drop(df1[df1['Price'] > 10_000_000].index, inplace = True)\n",
    "df1.drop(df1[df1['Area in sq ft'] > 9_000].index, inplace = True)"
   ]
  },
  {
   "cell_type": "code",
   "execution_count": 169,
   "id": "bd944b2d",
   "metadata": {},
   "outputs": [
    {
     "data": {
      "text/plain": [
       "Text(0.5, 1.0, 'Final data set')"
      ]
     },
     "execution_count": 169,
     "metadata": {},
     "output_type": "execute_result"
    },
    {
     "data": {
      "image/png": "[encoded data removed]",
      "text/plain": [
       "<Figure size 432x288 with 1 Axes>"
      ]
     },
     "metadata": {
      "needs_background": "light"
     },
     "output_type": "display_data"
    }
   ],
   "source": [
    "#replotting with the new data\n",
    "plt.scatter(df1['Area in sq ft'], df1.Price)\n",
    "plt.xlabel('Area in sq ft')\n",
    "plt.ylabel('Price (in millions of pounds)')\n",
    "plt.title('Final data set')"
   ]
  },
  {
   "cell_type": "code",
   "execution_count": 170,
   "id": "a79f3357",
   "metadata": {},
   "outputs": [
    {
     "data": {
      "text/html": [
       "<div>\n",
       "<style scoped>\n",
       "    .dataframe tbody tr th:only-of-type {\n",
       "        vertical-align: middle;\n",
       "    }\n",
       "\n",
       "    .dataframe tbody tr th {\n",
       "        vertical-align: top;\n",
       "    }\n",
       "\n",
       "    .dataframe thead th {\n",
       "        text-align: right;\n",
       "    }\n",
       "</style>\n",
       "<table border=\"1\" class=\"dataframe\">\n",
       "  <thead>\n",
       "    <tr style=\"text-align: right;\">\n",
       "      <th></th>\n",
       "      <th>Price</th>\n",
       "      <th>Area in sq ft</th>\n",
       "    </tr>\n",
       "  </thead>\n",
       "  <tbody>\n",
       "    <tr>\n",
       "      <th>3081</th>\n",
       "      <td>900000</td>\n",
       "      <td>902</td>\n",
       "    </tr>\n",
       "    <tr>\n",
       "      <th>2173</th>\n",
       "      <td>825000</td>\n",
       "      <td>687</td>\n",
       "    </tr>\n",
       "    <tr>\n",
       "      <th>136</th>\n",
       "      <td>1750000</td>\n",
       "      <td>1580</td>\n",
       "    </tr>\n",
       "    <tr>\n",
       "      <th>364</th>\n",
       "      <td>2100000</td>\n",
       "      <td>3596</td>\n",
       "    </tr>\n",
       "    <tr>\n",
       "      <th>368</th>\n",
       "      <td>1280000</td>\n",
       "      <td>1169</td>\n",
       "    </tr>\n",
       "    <tr>\n",
       "      <th>...</th>\n",
       "      <td>...</td>\n",
       "      <td>...</td>\n",
       "    </tr>\n",
       "    <tr>\n",
       "      <th>2992</th>\n",
       "      <td>2500000</td>\n",
       "      <td>1227</td>\n",
       "    </tr>\n",
       "    <tr>\n",
       "      <th>3146</th>\n",
       "      <td>807995</td>\n",
       "      <td>1650</td>\n",
       "    </tr>\n",
       "    <tr>\n",
       "      <th>188</th>\n",
       "      <td>765000</td>\n",
       "      <td>1362</td>\n",
       "    </tr>\n",
       "    <tr>\n",
       "      <th>203</th>\n",
       "      <td>1850000</td>\n",
       "      <td>2516</td>\n",
       "    </tr>\n",
       "    <tr>\n",
       "      <th>3208</th>\n",
       "      <td>925000</td>\n",
       "      <td>1607</td>\n",
       "    </tr>\n",
       "  </tbody>\n",
       "</table>\n",
       "<p>194 rows × 2 columns</p>\n",
       "</div>"
      ],
      "text/plain": [
       "        Price  Area in sq ft\n",
       "3081   900000            902\n",
       "2173   825000            687\n",
       "136   1750000           1580\n",
       "364   2100000           3596\n",
       "368   1280000           1169\n",
       "...       ...            ...\n",
       "2992  2500000           1227\n",
       "3146   807995           1650\n",
       "188    765000           1362\n",
       "203   1850000           2516\n",
       "3208   925000           1607\n",
       "\n",
       "[194 rows x 2 columns]"
      ]
     },
     "execution_count": 170,
     "metadata": {},
     "output_type": "execute_result"
    }
   ],
   "source": [
    "#Making the linear regression model\n",
    "df1"
   ]
  },
  {
   "cell_type": "code",
   "execution_count": 171,
   "id": "c12ac07e",
   "metadata": {},
   "outputs": [],
   "source": [
    "#manually setting w and b to play around with the best fit line\n",
    "w = 1_000\n",
    "b = 1_000"
   ]
  },
  {
   "cell_type": "code",
   "execution_count": 172,
   "id": "8778e78a",
   "metadata": {},
   "outputs": [],
   "source": [
    "#plotting a linear function to play around with manually finding a best fit line\n",
    "def linear_function(x, w, b):\n",
    "\n",
    "    m = df1.shape[0]\n",
    "    y_pred = np.zeros(m)\n",
    "    for i in range(m):\n",
    "        y_pred[i] = w * df1.iloc[i]['Area in sq ft'] + b\n",
    "        \n",
    "    return(y_pred)"
   ]
  },
  {
   "cell_type": "code",
   "execution_count": 173,
   "id": "c9b6673d",
   "metadata": {},
   "outputs": [],
   "source": [
    "linear_function = linear_function(x, w, b)"
   ]
  },
  {
   "cell_type": "code",
   "execution_count": 174,
   "id": "b885629d",
   "metadata": {},
   "outputs": [
    {
     "data": {
      "image/png": "[encoded data removed]",
      "text/plain": [
       "<Figure size 432x288 with 1 Axes>"
      ]
     },
     "metadata": {
      "needs_background": "light"
     },
     "output_type": "display_data"
    }
   ],
   "source": [
    "# Plot our model prediction\n",
    "plt.plot(df1['Area in sq ft'], linear_function, c='b',label='Our Prediction')\n",
    "\n",
    "# Plot the data points\n",
    "plt.scatter(df1['Area in sq ft'], df1.Price, marker='x', color='red', label='Actual data')\n",
    "\n",
    "# Set the title\n",
    "plt.title(\"Housing Prices\")\n",
    "# Set the y-axis label\n",
    "plt.ylabel('Price (in millions of pounds)')\n",
    "# Set the x-axis label\n",
    "plt.xlabel('Area in sq ft')\n",
    "plt.legend()\n",
    "plt.show()"
   ]
  },
  {
   "cell_type": "code",
   "execution_count": 175,
   "id": "263c8bae",
   "metadata": {},
   "outputs": [
    {
     "data": {
      "text/plain": [
       "\"'\\ndef compute_cost(x, y, w, b):\\n   \\n    m = df1.shape[0]\\n    cost = 0\\n    \\n    for i in range(m):\\n        y_pred = w * df1.iloc[i]['Area in sq ft'] + b\\n        cost += (y_pred - df1.iloc[i]['Price'])**2\\n    total_cost = 1 / (2 * m) * cost\\n\\n    return total_cost\\n\""
      ]
     },
     "execution_count": 175,
     "metadata": {},
     "output_type": "execute_result"
    }
   ],
   "source": [
    "#making the cost function to calculate the error between the predictions and actual data\n",
    "''''\n",
    "def compute_cost(x, y, w, b):\n",
    "   \n",
    "    m = df1.shape[0]\n",
    "    cost = 0\n",
    "    \n",
    "    for i in range(m):\n",
    "        y_pred = w * df1.iloc[i]['Area in sq ft'] + b\n",
    "        cost += (y_pred - df1.iloc[i]['Price'])**2\n",
    "    total_cost = 1 / (2 * m) * cost\n",
    "\n",
    "    return total_cost\n",
    "'''"
   ]
  },
  {
   "cell_type": "code",
   "execution_count": 176,
   "id": "a5e4df3f",
   "metadata": {},
   "outputs": [],
   "source": [
    "#w = 100\n",
    "#b = 100\n",
    "#f = compute_cost(df1['Area in sq ft'], df1['Price'], w, b)"
   ]
  },
  {
   "cell_type": "code",
   "execution_count": 177,
   "id": "3ba43d5d",
   "metadata": {},
   "outputs": [],
   "source": [
    "def gradient_descent(data, w, b, L): \n",
    "    # Number of training examples\n",
    "    m = df1.shape[0] \n",
    "    \n",
    "    #initlialising the derivatives for w and b\n",
    "    dj_dw = 0\n",
    "    dj_db = 0\n",
    "    \n",
    "    for i in range(m):\n",
    "        \n",
    "        x = df1.iloc[i]['Area in sq ft']\n",
    "        y = df1.iloc[i]['Price']\n",
    "        \n",
    "        y_pred = w * x + b \n",
    "        dj_dw += (y_pred - y) * x \n",
    "        dj_db += y_pred - y \n",
    "        \n",
    "    dj_dw = dj_dw / m \n",
    "    dj_db = dj_db / m \n",
    "    \n",
    "    for i in range(epochs):\n",
    "    if i % 50 == 0: \n",
    "        print(f\"Epochs: {i}\")\n",
    "    w, b = gradient_descent(df1, w, b, dj_dw, dj_db, L)\n",
    "    \n",
    "    return dj_dw, dj_db\n"
   ]
  },
  {
   "cell_type": "code",
   "execution_count": 178,
   "id": "45caad08",
   "metadata": {},
   "outputs": [],
   "source": [
    "w = 1000\n",
    "b = 1000\n",
    "dj_dw, dj_db = compute_derivatives(df1, w , b)"
   ]
  },
  {
   "cell_type": "code",
   "execution_count": 179,
   "id": "e9ef56a8",
   "metadata": {},
   "outputs": [
    {
     "name": "stdout",
     "output_type": "stream",
     "text": [
      "3464023.5515463916 -18877.778350515466\n"
     ]
    }
   ],
   "source": [
    "print(dj_dw, dj_db)"
   ]
  },
  {
   "cell_type": "code",
   "execution_count": null,
   "id": "e02f0e12",
   "metadata": {},
   "outputs": [],
   "source": [
    "def gradient_descent(data, w, b, dj_dw, dj_db, L):\n",
    "    w = w - L * dj_dw\n",
    "    b = b - L * dj_db\n",
    "    \n",
    "    return(m, b)"
   ]
  },
  {
   "cell_type": "code",
   "execution_count": null,
   "id": "5ad3c93f",
   "metadata": {},
   "outputs": [],
   "source": []
  },
  {
   "cell_type": "code",
   "execution_count": 192,
   "id": "fd19b21b",
   "metadata": {},
   "outputs": [
    {
     "data": {
      "text/plain": [
       "<matplotlib.collections.PathCollection at 0x7eff73c06170>"
      ]
     },
     "execution_count": 192,
     "metadata": {},
     "output_type": "execute_result"
    },
    {
     "data": {
      "image/png": "[encoded data removed]",
      "text/plain": [
       "<Figure size 432x288 with 1 Axes>"
      ]
     },
     "metadata": {
      "needs_background": "light"
     },
     "output_type": "display_data"
    }
   ],
   "source": [
    "# Plot the data points\n",
    "plt.scatter(df1['Area in sq ft'], df1.Price, marker='x', color='red', label='Actual data')\n",
    "# Plot our model prediction\n",
    "#plt.plot(df1['Area in sq ft'], [w * x + b for x in df1['Area in sq ft']], c='b',label='Our Prediction')"
   ]
  },
  {
   "cell_type": "code",
   "execution_count": null,
   "id": "292328e3",
   "metadata": {},
   "outputs": [],
   "source": []
  },
  {
   "cell_type": "code",
   "execution_count": null,
   "id": "4d7c350e",
   "metadata": {},
   "outputs": [],
   "source": []
  },
  {
   "cell_type": "code",
   "execution_count": null,
   "id": "49baa61d",
   "metadata": {},
   "outputs": [],
   "source": []
  }
 ],
 "metadata": {
  "kernelspec": {
   "display_name": "Python 3 (ipykernel)",
   "language": "python",
   "name": "python3"
  },
  "language_info": {
   "codemirror_mode": {
    "name": "ipython",
    "version": 3
   },
   "file_extension": ".py",
   "mimetype": "text/x-python",
   "name": "python",
   "nbconvert_exporter": "python",
   "pygments_lexer": "ipython3",
   "version": "3.10.4"
  }
 },
 "nbformat": 4,
 "nbformat_minor": 5
}
