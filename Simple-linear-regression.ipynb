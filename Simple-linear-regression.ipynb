{
 "cells": [
  {
   "cell_type": "code",
   "execution_count": 108,
   "id": "0fea140b",
   "metadata": {},
   "outputs": [],
   "source": [
    "import numpy as np\n",
    "import pandas as pd\n",
    "import matplotlib.pyplot as plt"
   ]
  },
  {
   "cell_type": "code",
   "execution_count": 109,
   "id": "4fdb5c69",
   "metadata": {},
   "outputs": [],
   "source": [
    "df = pd.read_csv(\"London.csv\")"
   ]
  },
  {
   "cell_type": "code",
   "execution_count": 110,
   "id": "467a5931",
   "metadata": {},
   "outputs": [
    {
     "data": {
      "text/html": [
       "<div>\n",
       "<style scoped>\n",
       "    .dataframe tbody tr th:only-of-type {\n",
       "        vertical-align: middle;\n",
       "    }\n",
       "\n",
       "    .dataframe tbody tr th {\n",
       "        vertical-align: top;\n",
       "    }\n",
       "\n",
       "    .dataframe thead th {\n",
       "        text-align: right;\n",
       "    }\n",
       "</style>\n",
       "<table border=\"1\" class=\"dataframe\">\n",
       "  <thead>\n",
       "    <tr style=\"text-align: right;\">\n",
       "      <th></th>\n",
       "      <th>Unnamed: 0</th>\n",
       "      <th>Property Name</th>\n",
       "      <th>Price</th>\n",
       "      <th>House Type</th>\n",
       "      <th>Area in sq ft</th>\n",
       "      <th>No. of Bedrooms</th>\n",
       "      <th>No. of Bathrooms</th>\n",
       "      <th>No. of Receptions</th>\n",
       "      <th>Location</th>\n",
       "      <th>City/County</th>\n",
       "      <th>Postal Code</th>\n",
       "    </tr>\n",
       "  </thead>\n",
       "  <tbody>\n",
       "    <tr>\n",
       "      <th>0</th>\n",
       "      <td>0</td>\n",
       "      <td>Queens Road</td>\n",
       "      <td>1675000</td>\n",
       "      <td>House</td>\n",
       "      <td>2716</td>\n",
       "      <td>5</td>\n",
       "      <td>5</td>\n",
       "      <td>5</td>\n",
       "      <td>Wimbledon</td>\n",
       "      <td>London</td>\n",
       "      <td>SW19 8NY</td>\n",
       "    </tr>\n",
       "    <tr>\n",
       "      <th>1</th>\n",
       "      <td>1</td>\n",
       "      <td>Seward Street</td>\n",
       "      <td>650000</td>\n",
       "      <td>Flat / Apartment</td>\n",
       "      <td>814</td>\n",
       "      <td>2</td>\n",
       "      <td>2</td>\n",
       "      <td>2</td>\n",
       "      <td>Clerkenwell</td>\n",
       "      <td>London</td>\n",
       "      <td>EC1V 3PA</td>\n",
       "    </tr>\n",
       "    <tr>\n",
       "      <th>2</th>\n",
       "      <td>2</td>\n",
       "      <td>Hotham Road</td>\n",
       "      <td>735000</td>\n",
       "      <td>Flat / Apartment</td>\n",
       "      <td>761</td>\n",
       "      <td>2</td>\n",
       "      <td>2</td>\n",
       "      <td>2</td>\n",
       "      <td>Putney</td>\n",
       "      <td>London</td>\n",
       "      <td>SW15 1QL</td>\n",
       "    </tr>\n",
       "    <tr>\n",
       "      <th>3</th>\n",
       "      <td>3</td>\n",
       "      <td>Festing Road</td>\n",
       "      <td>1765000</td>\n",
       "      <td>House</td>\n",
       "      <td>1986</td>\n",
       "      <td>4</td>\n",
       "      <td>4</td>\n",
       "      <td>4</td>\n",
       "      <td>Putney</td>\n",
       "      <td>London</td>\n",
       "      <td>SW15 1LP</td>\n",
       "    </tr>\n",
       "    <tr>\n",
       "      <th>4</th>\n",
       "      <td>4</td>\n",
       "      <td>Spencer Walk</td>\n",
       "      <td>675000</td>\n",
       "      <td>Flat / Apartment</td>\n",
       "      <td>700</td>\n",
       "      <td>2</td>\n",
       "      <td>2</td>\n",
       "      <td>2</td>\n",
       "      <td>Putney</td>\n",
       "      <td>London</td>\n",
       "      <td>SW15 1PL</td>\n",
       "    </tr>\n",
       "    <tr>\n",
       "      <th>...</th>\n",
       "      <td>...</td>\n",
       "      <td>...</td>\n",
       "      <td>...</td>\n",
       "      <td>...</td>\n",
       "      <td>...</td>\n",
       "      <td>...</td>\n",
       "      <td>...</td>\n",
       "      <td>...</td>\n",
       "      <td>...</td>\n",
       "      <td>...</td>\n",
       "      <td>...</td>\n",
       "    </tr>\n",
       "    <tr>\n",
       "      <th>3475</th>\n",
       "      <td>3475</td>\n",
       "      <td>One Lillie Square</td>\n",
       "      <td>3350000</td>\n",
       "      <td>New development</td>\n",
       "      <td>1410</td>\n",
       "      <td>3</td>\n",
       "      <td>3</td>\n",
       "      <td>3</td>\n",
       "      <td>NaN</td>\n",
       "      <td>Lillie Square</td>\n",
       "      <td>SW6 1UE</td>\n",
       "    </tr>\n",
       "    <tr>\n",
       "      <th>3476</th>\n",
       "      <td>3476</td>\n",
       "      <td>St. James's Street</td>\n",
       "      <td>5275000</td>\n",
       "      <td>Flat / Apartment</td>\n",
       "      <td>1749</td>\n",
       "      <td>3</td>\n",
       "      <td>3</td>\n",
       "      <td>3</td>\n",
       "      <td>St James's</td>\n",
       "      <td>London</td>\n",
       "      <td>SW1A 1JT</td>\n",
       "    </tr>\n",
       "    <tr>\n",
       "      <th>3477</th>\n",
       "      <td>3477</td>\n",
       "      <td>Ingram Avenue</td>\n",
       "      <td>5995000</td>\n",
       "      <td>House</td>\n",
       "      <td>4435</td>\n",
       "      <td>6</td>\n",
       "      <td>6</td>\n",
       "      <td>6</td>\n",
       "      <td>Hampstead Garden Suburb</td>\n",
       "      <td>London</td>\n",
       "      <td>NW11 6TG</td>\n",
       "    </tr>\n",
       "    <tr>\n",
       "      <th>3478</th>\n",
       "      <td>3478</td>\n",
       "      <td>Cork Street</td>\n",
       "      <td>6300000</td>\n",
       "      <td>New development</td>\n",
       "      <td>1506</td>\n",
       "      <td>3</td>\n",
       "      <td>3</td>\n",
       "      <td>3</td>\n",
       "      <td>Mayfair</td>\n",
       "      <td>London</td>\n",
       "      <td>W1S 3AR</td>\n",
       "    </tr>\n",
       "    <tr>\n",
       "      <th>3479</th>\n",
       "      <td>3479</td>\n",
       "      <td>Courtenay Avenue</td>\n",
       "      <td>8650000</td>\n",
       "      <td>House</td>\n",
       "      <td>5395</td>\n",
       "      <td>6</td>\n",
       "      <td>6</td>\n",
       "      <td>6</td>\n",
       "      <td>Highgate</td>\n",
       "      <td>London</td>\n",
       "      <td>N6 4LP</td>\n",
       "    </tr>\n",
       "  </tbody>\n",
       "</table>\n",
       "<p>3480 rows × 11 columns</p>\n",
       "</div>"
      ],
      "text/plain": [
       "      Unnamed: 0       Property Name    Price        House Type  \\\n",
       "0              0         Queens Road  1675000             House   \n",
       "1              1       Seward Street   650000  Flat / Apartment   \n",
       "2              2         Hotham Road   735000  Flat / Apartment   \n",
       "3              3        Festing Road  1765000             House   \n",
       "4              4        Spencer Walk   675000  Flat / Apartment   \n",
       "...          ...                 ...      ...               ...   \n",
       "3475        3475   One Lillie Square  3350000   New development   \n",
       "3476        3476  St. James's Street  5275000  Flat / Apartment   \n",
       "3477        3477       Ingram Avenue  5995000             House   \n",
       "3478        3478         Cork Street  6300000   New development   \n",
       "3479        3479    Courtenay Avenue  8650000             House   \n",
       "\n",
       "      Area in sq ft  No. of Bedrooms  No. of Bathrooms  No. of Receptions  \\\n",
       "0              2716                5                 5                  5   \n",
       "1               814                2                 2                  2   \n",
       "2               761                2                 2                  2   \n",
       "3              1986                4                 4                  4   \n",
       "4               700                2                 2                  2   \n",
       "...             ...              ...               ...                ...   \n",
       "3475           1410                3                 3                  3   \n",
       "3476           1749                3                 3                  3   \n",
       "3477           4435                6                 6                  6   \n",
       "3478           1506                3                 3                  3   \n",
       "3479           5395                6                 6                  6   \n",
       "\n",
       "                     Location    City/County Postal Code  \n",
       "0                   Wimbledon         London    SW19 8NY  \n",
       "1                 Clerkenwell         London    EC1V 3PA  \n",
       "2                      Putney         London    SW15 1QL  \n",
       "3                      Putney         London    SW15 1LP  \n",
       "4                      Putney         London    SW15 1PL  \n",
       "...                       ...            ...         ...  \n",
       "3475                      NaN  Lillie Square     SW6 1UE  \n",
       "3476               St James's         London    SW1A 1JT  \n",
       "3477  Hampstead Garden Suburb         London    NW11 6TG  \n",
       "3478                  Mayfair         London     W1S 3AR  \n",
       "3479                 Highgate         London      N6 4LP  \n",
       "\n",
       "[3480 rows x 11 columns]"
      ]
     },
     "execution_count": 110,
     "metadata": {},
     "output_type": "execute_result"
    }
   ],
   "source": [
    "df"
   ]
  },
  {
   "cell_type": "code",
   "execution_count": 138,
   "id": "0d672396",
   "metadata": {},
   "outputs": [],
   "source": [
    "#creating new data set with relevant data and reducing the size of it\n",
    "df1 = df[['Price','Area in sq ft']]\n",
    "df1 = df1.sample(n=2000, random_state=1)"
   ]
  },
  {
   "cell_type": "code",
   "execution_count": 139,
   "id": "3dc69dca",
   "metadata": {},
   "outputs": [
    {
     "data": {
      "text/plain": [
       "Price            0\n",
       "Area in sq ft    0\n",
       "dtype: int64"
      ]
     },
     "execution_count": 139,
     "metadata": {},
     "output_type": "execute_result"
    }
   ],
   "source": [
    "#checking for any missing values\n",
    "df1.isnull().sum()"
   ]
  },
  {
   "cell_type": "code",
   "execution_count": 140,
   "id": "16e2091b",
   "metadata": {},
   "outputs": [],
   "source": [
    "#df1.sort_index()"
   ]
  },
  {
   "cell_type": "code",
   "execution_count": 141,
   "id": "92ea0aeb",
   "metadata": {},
   "outputs": [],
   "source": [
    "#df1['Price'].idmax()"
   ]
  },
  {
   "cell_type": "code",
   "execution_count": 142,
   "id": "52ea4fca",
   "metadata": {},
   "outputs": [
    {
     "data": {
      "text/plain": [
       "Text(0, 0.5, 'Price')"
      ]
     },
     "execution_count": 142,
     "metadata": {},
     "output_type": "execute_result"
    },
    {
     "data": {
      "image/png": "[encoded data removed]",
      "text/plain": [
       "<Figure size 432x288 with 1 Axes>"
      ]
     },
     "metadata": {
      "needs_background": "light"
     },
     "output_type": "display_data"
    }
   ],
   "source": [
    "#plt.ticklabel_format(useOffset=False, style='plain')\n",
    "plt.scatter(df1['Area in sq ft'], df1.Price)\n",
    "plt.xlabel('Area in sq ft')\n",
    "plt.ylabel('Price')"
   ]
  },
  {
   "cell_type": "code",
   "execution_count": null,
   "id": "257384d9",
   "metadata": {},
   "outputs": [],
   "source": []
  },
  {
   "cell_type": "code",
   "execution_count": null,
   "id": "bd944b2d",
   "metadata": {},
   "outputs": [],
   "source": []
  },
  {
   "cell_type": "code",
   "execution_count": null,
   "id": "130ea86f",
   "metadata": {},
   "outputs": [],
   "source": []
  }
 ],
 "metadata": {
  "kernelspec": {
   "display_name": "Python 3 (ipykernel)",
   "language": "python",
   "name": "python3"
  },
  "language_info": {
   "codemirror_mode": {
    "name": "ipython",
    "version": 3
   },
   "file_extension": ".py",
   "mimetype": "text/x-python",
   "name": "python",
   "nbconvert_exporter": "python",
   "pygments_lexer": "ipython3",
   "version": "3.10.4"
  }
 },
 "nbformat": 4,
 "nbformat_minor": 5
}
