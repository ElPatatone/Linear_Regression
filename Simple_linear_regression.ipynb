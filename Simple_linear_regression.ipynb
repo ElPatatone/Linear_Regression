{
 "cells": [
  {
   "cell_type": "code",
   "execution_count": 48,
   "id": "e5cc9d37",
   "metadata": {},
   "outputs": [],
   "source": [
    "import numpy as np\n",
    "import pandas as pd\n",
    "import matplotlib.pyplot as plt\n",
    "from scipy.special import logsumexp"
   ]
  },
  {
   "cell_type": "code",
   "execution_count": 49,
   "id": "71595bf3",
   "metadata": {},
   "outputs": [],
   "source": [
    "df = pd.read_csv(\"cleaned_data.csv\")"
   ]
  },
  {
   "cell_type": "code",
   "execution_count": 50,
   "id": "32abbb3d",
   "metadata": {},
   "outputs": [
    {
     "data": {
      "text/html": [
       "<div>\n",
       "<style scoped>\n",
       "    .dataframe tbody tr th:only-of-type {\n",
       "        vertical-align: middle;\n",
       "    }\n",
       "\n",
       "    .dataframe tbody tr th {\n",
       "        vertical-align: top;\n",
       "    }\n",
       "\n",
       "    .dataframe thead th {\n",
       "        text-align: right;\n",
       "    }\n",
       "</style>\n",
       "<table border=\"1\" class=\"dataframe\">\n",
       "  <thead>\n",
       "    <tr style=\"text-align: right;\">\n",
       "      <th></th>\n",
       "      <th>Price</th>\n",
       "      <th>Area in sq ft</th>\n",
       "    </tr>\n",
       "  </thead>\n",
       "  <tbody>\n",
       "    <tr>\n",
       "      <th>0</th>\n",
       "      <td>900000</td>\n",
       "      <td>902</td>\n",
       "    </tr>\n",
       "    <tr>\n",
       "      <th>1</th>\n",
       "      <td>825000</td>\n",
       "      <td>687</td>\n",
       "    </tr>\n",
       "    <tr>\n",
       "      <th>2</th>\n",
       "      <td>1750000</td>\n",
       "      <td>1580</td>\n",
       "    </tr>\n",
       "    <tr>\n",
       "      <th>3</th>\n",
       "      <td>2100000</td>\n",
       "      <td>3596</td>\n",
       "    </tr>\n",
       "    <tr>\n",
       "      <th>4</th>\n",
       "      <td>1280000</td>\n",
       "      <td>1169</td>\n",
       "    </tr>\n",
       "    <tr>\n",
       "      <th>...</th>\n",
       "      <td>...</td>\n",
       "      <td>...</td>\n",
       "    </tr>\n",
       "    <tr>\n",
       "      <th>189</th>\n",
       "      <td>2500000</td>\n",
       "      <td>1227</td>\n",
       "    </tr>\n",
       "    <tr>\n",
       "      <th>190</th>\n",
       "      <td>807995</td>\n",
       "      <td>1650</td>\n",
       "    </tr>\n",
       "    <tr>\n",
       "      <th>191</th>\n",
       "      <td>765000</td>\n",
       "      <td>1362</td>\n",
       "    </tr>\n",
       "    <tr>\n",
       "      <th>192</th>\n",
       "      <td>1850000</td>\n",
       "      <td>2516</td>\n",
       "    </tr>\n",
       "    <tr>\n",
       "      <th>193</th>\n",
       "      <td>925000</td>\n",
       "      <td>1607</td>\n",
       "    </tr>\n",
       "  </tbody>\n",
       "</table>\n",
       "<p>194 rows × 2 columns</p>\n",
       "</div>"
      ],
      "text/plain": [
       "       Price  Area in sq ft\n",
       "0     900000            902\n",
       "1     825000            687\n",
       "2    1750000           1580\n",
       "3    2100000           3596\n",
       "4    1280000           1169\n",
       "..       ...            ...\n",
       "189  2500000           1227\n",
       "190   807995           1650\n",
       "191   765000           1362\n",
       "192  1850000           2516\n",
       "193   925000           1607\n",
       "\n",
       "[194 rows x 2 columns]"
      ]
     },
     "execution_count": 50,
     "metadata": {},
     "output_type": "execute_result"
    }
   ],
   "source": [
    "df"
   ]
  },
  {
   "cell_type": "code",
   "execution_count": 137,
   "id": "9ea9f146",
   "metadata": {},
   "outputs": [],
   "source": [
    "x = df['Area in sq ft']"
   ]
  },
  {
   "cell_type": "code",
   "execution_count": 138,
   "id": "e015d8cb",
   "metadata": {},
   "outputs": [],
   "source": [
    "y = df['Price']"
   ]
  },
  {
   "cell_type": "code",
   "execution_count": 211,
   "id": "6564fd99",
   "metadata": {},
   "outputs": [
    {
     "data": {
      "text/plain": [
       "Text(0, 0.5, 'Price')"
      ]
     },
     "execution_count": 211,
     "metadata": {},
     "output_type": "execute_result"
    },
    {
     "data": {
      "image/png": "[encoded data removed]",
      "text/plain": [
       "<Figure size 432x288 with 1 Axes>"
      ]
     },
     "metadata": {
      "needs_background": "light"
     },
     "output_type": "display_data"
    }
   ],
   "source": [
    "#plotting data\n",
    "plt.scatter(x, y, color='green', marker='x')\n",
    "plt.title('House prices')\n",
    "plt.xlabel('Area in sq ft')\n",
    "plt.ylabel('Price')"
   ]
  },
  {
   "cell_type": "code",
   "execution_count": 321,
   "id": "7808fb99",
   "metadata": {},
   "outputs": [],
   "source": [
    "#making the model\n",
    "w = 0\n",
    "b = 0\n",
    "\n",
    "x = np.array([10, 20, 30, 40])\n",
    "y = np.array([10, 25, 30, 50])\n",
    "\n",
    "Leanring_rate = 0.0001\n",
    "epochs = 1000\n",
    "\n",
    "n = x.shape[0]\n",
    "error = []"
   ]
  },
  {
   "cell_type": "code",
   "execution_count": 322,
   "id": "2ebaf68d",
   "metadata": {},
   "outputs": [],
   "source": [
    "for i in range(epochs):\n",
    "    \n",
    "    y_hat = w * x + b\n",
    "    mse = (1/n) * logsumexp((y - y_hat)**2)\n",
    "    error.append(mse)\n",
    "    \n",
    "    derivative_w = (-2/n) * logsumexp(x * (y - y_hat))\n",
    "    derivative_b = (-2/n) * logsumexp(y - y_hat)\n",
    "    \n",
    "    w = w - Leanring_rate * derivative_w\n",
    "    b = b - Leanring_rate * derivative_b\n",
    "    "
   ]
  },
  {
   "cell_type": "code",
   "execution_count": 323,
   "id": "ad731372",
   "metadata": {},
   "outputs": [
    {
     "name": "stdout",
     "output_type": "stream",
     "text": [
      "1.2487651920886023 0.06508958546747057\n"
     ]
    }
   ],
   "source": [
    "print(w, b)"
   ]
  },
  {
   "cell_type": "code",
   "execution_count": 324,
   "id": "65a84b50",
   "metadata": {},
   "outputs": [],
   "source": [
    "def linear_function(x, w, b):\n",
    "    \n",
    "    m = x.shape[0]\n",
    "    y_pred = np.zeros(m)\n",
    "    \n",
    "    for i in range(m):\n",
    "        y_pred[i] = w * x[i] + b\n",
    "        \n",
    "    return(y_pred)"
   ]
  },
  {
   "cell_type": "code",
   "execution_count": 325,
   "id": "e4d0d2dd",
   "metadata": {},
   "outputs": [],
   "source": [
    "line = linear_function(x, w, b)"
   ]
  },
  {
   "cell_type": "code",
   "execution_count": 326,
   "id": "4ab6aad9",
   "metadata": {},
   "outputs": [
    {
     "data": {
      "text/plain": [
       "Text(0, 0.5, 'Price')"
      ]
     },
     "execution_count": 326,
     "metadata": {},
     "output_type": "execute_result"
    },
    {
     "data": {
      "image/png": "[encoded data removed]",
      "text/plain": [
       "<Figure size 432x288 with 1 Axes>"
      ]
     },
     "metadata": {
      "needs_background": "light"
     },
     "output_type": "display_data"
    }
   ],
   "source": [
    "#plotting data\n",
    "plt.scatter(x, y, color='green', marker='x')\n",
    "plt.plot(x, line)\n",
    "plt.title('House prices')\n",
    "plt.xlabel('Area in sq ft')\n",
    "plt.ylabel('Price')"
   ]
  },
  {
   "cell_type": "code",
   "execution_count": null,
   "id": "4e732093",
   "metadata": {},
   "outputs": [],
   "source": []
  },
  {
   "cell_type": "code",
   "execution_count": null,
   "id": "dcccca88",
   "metadata": {},
   "outputs": [],
   "source": []
  },
  {
   "cell_type": "code",
   "execution_count": null,
   "id": "a29ec29a",
   "metadata": {},
   "outputs": [],
   "source": []
  },
  {
   "cell_type": "code",
   "execution_count": null,
   "id": "c30e44b9",
   "metadata": {},
   "outputs": [],
   "source": []
  },
  {
   "cell_type": "code",
   "execution_count": 302,
   "id": "d767543f",
   "metadata": {},
   "outputs": [],
   "source": []
  },
  {
   "cell_type": "code",
   "execution_count": 303,
   "id": "17f33aa4",
   "metadata": {},
   "outputs": [],
   "source": [
    "#making the model\n",
    "w = 0\n",
    "b = 0\n",
    "\n",
    "epochs = 1000\n",
    "L = 0.0001"
   ]
  },
  {
   "cell_type": "code",
   "execution_count": null,
   "id": "e56a277b",
   "metadata": {},
   "outputs": [],
   "source": []
  },
  {
   "cell_type": "code",
   "execution_count": 304,
   "id": "3d79cf06",
   "metadata": {},
   "outputs": [],
   "source": [
    "def linear_model(w_in, b_in, x, y, L):\n",
    "    \n",
    "    w_gradient = 0 \n",
    "    b_gradient = 0 \n",
    "    \n",
    "    m = x.shape[0]\n",
    "    \n",
    "    for i in range(m):\n",
    "        #x = data.iloc[i]['Area in sq ft']\n",
    "        #y = data.iloc[i]['Price']\n",
    "        \n",
    "        w_gradient = -(2/m) * x[i] * (y[i] - (w_in * x[i] + b_in))\n",
    "        b_gradient = -(2/m) * (y[i] - (w_in * x[i] + b_in))\n",
    "        \n",
    "    w = w_in - w_gradient * L\n",
    "    b = b_in - b_gradient * L\n",
    "    \n",
    "    return w, b"
   ]
  },
  {
   "cell_type": "code",
   "execution_count": 305,
   "id": "b683f9e6",
   "metadata": {},
   "outputs": [],
   "source": [
    "def linear_function(x, w, b):\n",
    "    \n",
    "    m = x.shape[0]\n",
    "    y_pred = np.zeros(m)\n",
    "    \n",
    "    for i in range(m):\n",
    "        y_pred[i] = w * x[i] + b\n",
    "        \n",
    "    return(y_pred)"
   ]
  },
  {
   "cell_type": "code",
   "execution_count": 306,
   "id": "0e4b2442",
   "metadata": {},
   "outputs": [],
   "source": [
    "w, b = linear_model(w, b, x, y, L)"
   ]
  },
  {
   "cell_type": "code",
   "execution_count": 307,
   "id": "957f6a49",
   "metadata": {},
   "outputs": [],
   "source": [
    "line = linear_function(x, w, b)"
   ]
  },
  {
   "cell_type": "code",
   "execution_count": 308,
   "id": "faa84785",
   "metadata": {},
   "outputs": [
    {
     "data": {
      "text/plain": [
       "Text(0, 0.5, 'Price')"
      ]
     },
     "execution_count": 308,
     "metadata": {},
     "output_type": "execute_result"
    },
    {
     "data": {
      "image/png": "[encoded data removed]",
      "text/plain": [
       "<Figure size 432x288 with 1 Axes>"
      ]
     },
     "metadata": {
      "needs_background": "light"
     },
     "output_type": "display_data"
    }
   ],
   "source": [
    "#plotting data\n",
    "plt.scatter(x, y, color='green', marker='x')\n",
    "plt.plot(x, line)\n",
    "plt.title('House prices')\n",
    "plt.xlabel('Area in sq ft')\n",
    "plt.ylabel('Price')"
   ]
  },
  {
   "cell_type": "code",
   "execution_count": null,
   "id": "86238056",
   "metadata": {},
   "outputs": [],
   "source": []
  },
  {
   "cell_type": "code",
   "execution_count": null,
   "id": "fbea407d",
   "metadata": {},
   "outputs": [],
   "source": []
  }
 ],
 "metadata": {
  "kernelspec": {
   "display_name": "Python 3 (ipykernel)",
   "language": "python",
   "name": "python3"
  },
  "language_info": {
   "codemirror_mode": {
    "name": "ipython",
    "version": 3
   },
   "file_extension": ".py",
   "mimetype": "text/x-python",
   "name": "python",
   "nbconvert_exporter": "python",
   "pygments_lexer": "ipython3",
   "version": "3.10.4"
  }
 },
 "nbformat": 4,
 "nbformat_minor": 5
}
