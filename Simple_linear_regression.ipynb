{
 "cells": [
  {
   "cell_type": "code",
   "execution_count": 1,
   "id": "e56a277b",
   "metadata": {},
   "outputs": [],
   "source": [
    "def linear_function(x, w, b):\n",
    "    \n",
    "    m = x.shape[0]\n",
    "    y_pred = np.zeros(m)\n",
    "    \n",
    "    for i in range(m):\n",
    "        y_pred[i] = w * x[i] + b\n",
    "        \n",
    "    return(y_pred)"
   ]
  },
  {
   "cell_type": "code",
   "execution_count": 2,
   "id": "3d79cf06",
   "metadata": {},
   "outputs": [],
   "source": [
    "def linear_model(w_in, b_in, x, y, L):\n",
    "    \n",
    "    w_gradient = 0 \n",
    "    b_gradient = 0 \n",
    "    \n",
    "    m = x.shape[0]\n",
    "    \n",
    "    for i in range(m):\n",
    "        #x = data.iloc[i]['Area in sq ft']\n",
    "        #y = data.iloc[i]['Price']\n",
    "        \n",
    "        w_gradient = -(2/m) * x[i] * (y[i] - (w_in * x[i] + b_in))\n",
    "        b_gradient = -(2/m) * (y[i] - (w_in * x[i] + b_in))\n",
    "        \n",
    "    w = w_in - w_gradient * L\n",
    "    b = b_in - b_gradient * L\n",
    "    \n",
    "    return w, b"
   ]
  },
  {
   "cell_type": "code",
   "execution_count": null,
   "id": "b683f9e6",
   "metadata": {},
   "outputs": [],
   "source": []
  }
 ],
 "metadata": {
  "kernelspec": {
   "display_name": "Python 3 (ipykernel)",
   "language": "python",
   "name": "python3"
  },
  "language_info": {
   "codemirror_mode": {
    "name": "ipython",
    "version": 3
   },
   "file_extension": ".py",
   "mimetype": "text/x-python",
   "name": "python",
   "nbconvert_exporter": "python",
   "pygments_lexer": "ipython3",
   "version": "3.10.4"
  }
 },
 "nbformat": 4,
 "nbformat_minor": 5
}
